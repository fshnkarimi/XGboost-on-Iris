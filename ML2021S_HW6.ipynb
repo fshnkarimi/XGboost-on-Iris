{
  "nbformat": 4,
  "nbformat_minor": 0,
  "metadata": {
    "colab": {
      "name": "ML2021S_HW6.ipynb",
      "provenance": [],
      "collapsed_sections": []
    },
    "kernelspec": {
      "display_name": "Python 3",
      "language": "python",
      "name": "python3"
    },
    "language_info": {
      "codemirror_mode": {
        "name": "ipython",
        "version": 3
      },
      "file_extension": ".py",
      "mimetype": "text/x-python",
      "name": "python",
      "nbconvert_exporter": "python",
      "pygments_lexer": "ipython3",
      "version": "3.8.6"
    },
    "toc": {
      "base_numbering": 1,
      "nav_menu": {},
      "number_sections": true,
      "sideBar": true,
      "skip_h1_title": false,
      "title_cell": "Table of Contents",
      "title_sidebar": "Contents",
      "toc_cell": false,
      "toc_position": {},
      "toc_section_display": true,
      "toc_window_display": false
    },
    "varInspector": {
      "cols": {
        "lenName": 16,
        "lenType": 16,
        "lenVar": 40
      },
      "kernels_config": {
        "python": {
          "delete_cmd_postfix": "",
          "delete_cmd_prefix": "del ",
          "library": "var_list.py",
          "varRefreshCmd": "print(var_dic_list())"
        },
        "r": {
          "delete_cmd_postfix": ") ",
          "delete_cmd_prefix": "rm(",
          "library": "var_list.r",
          "varRefreshCmd": "cat(var_dic_list()) "
        }
      },
      "types_to_exclude": [
        "module",
        "function",
        "builtin_function_or_method",
        "instance",
        "_Feature"
      ],
      "window_display": false
    }
  },
  "cells": [
    {
      "cell_type": "markdown",
      "metadata": {
        "deletable": false,
        "editable": false,
        "heading_collapsed": true,
        "run_control": {
          "frozen": true
        },
        "id": "nwLhxITkmGBs"
      },
      "source": [
        "# CE-40717: Machine Learning"
      ]
    },
    {
      "cell_type": "markdown",
      "metadata": {
        "deletable": false,
        "editable": false,
        "heading_collapsed": true,
        "hidden": true,
        "run_control": {
          "frozen": true
        },
        "id": "iITi3O2vmGBw"
      },
      "source": [
        "## HW6-Gradient Boosting"
      ]
    },
    {
      "cell_type": "markdown",
      "metadata": {
        "deletable": false,
        "editable": false,
        "heading_collapsed": true,
        "hidden": true,
        "id": "2vqwJ6O-qQyT",
        "run_control": {
          "frozen": true
        }
      },
      "source": [
        "### Installation:\n",
        "You can use [sklearn](https://scikit-learn.org) and [xgboost](https://xgboost.readthedocs.io) packages:\n",
        "```python\n",
        "!pip install -U scikit-learn\n",
        "!pip install xgboost\n",
        "```"
      ]
    },
    {
      "cell_type": "code",
      "metadata": {
        "hidden": true,
        "colab": {
          "base_uri": "https://localhost:8080/"
        },
        "id": "qP2FuJNNmGBy",
        "outputId": "a1430446-1e25-4b2e-86c4-d8f1d8f09df4"
      },
      "source": [
        "'''\n",
        "Afshin Karimi\n",
        "99210431\n",
        "'''\n",
        "!pip install -U scikit-learn\n",
        "!pip install xgboost"
      ],
      "execution_count": 1,
      "outputs": [
        {
          "output_type": "stream",
          "text": [
            "Collecting scikit-learn\n",
            "\u001b[?25l  Downloading https://files.pythonhosted.org/packages/a8/eb/a48f25c967526b66d5f1fa7a984594f0bf0a5afafa94a8c4dbc317744620/scikit_learn-0.24.2-cp37-cp37m-manylinux2010_x86_64.whl (22.3MB)\n",
            "\u001b[K     |████████████████████████████████| 22.3MB 1.7MB/s \n",
            "\u001b[?25hRequirement already satisfied, skipping upgrade: joblib>=0.11 in /usr/local/lib/python3.7/dist-packages (from scikit-learn) (1.0.1)\n",
            "Requirement already satisfied, skipping upgrade: numpy>=1.13.3 in /usr/local/lib/python3.7/dist-packages (from scikit-learn) (1.19.5)\n",
            "Collecting threadpoolctl>=2.0.0\n",
            "  Downloading https://files.pythonhosted.org/packages/f7/12/ec3f2e203afa394a149911729357aa48affc59c20e2c1c8297a60f33f133/threadpoolctl-2.1.0-py3-none-any.whl\n",
            "Requirement already satisfied, skipping upgrade: scipy>=0.19.1 in /usr/local/lib/python3.7/dist-packages (from scikit-learn) (1.4.1)\n",
            "Installing collected packages: threadpoolctl, scikit-learn\n",
            "  Found existing installation: scikit-learn 0.22.2.post1\n",
            "    Uninstalling scikit-learn-0.22.2.post1:\n",
            "      Successfully uninstalled scikit-learn-0.22.2.post1\n",
            "Successfully installed scikit-learn-0.24.2 threadpoolctl-2.1.0\n",
            "Requirement already satisfied: xgboost in /usr/local/lib/python3.7/dist-packages (0.90)\n",
            "Requirement already satisfied: scipy in /usr/local/lib/python3.7/dist-packages (from xgboost) (1.4.1)\n",
            "Requirement already satisfied: numpy in /usr/local/lib/python3.7/dist-packages (from xgboost) (1.19.5)\n"
          ],
          "name": "stdout"
        }
      ]
    },
    {
      "cell_type": "code",
      "metadata": {
        "hidden": true,
        "id": "hyPsk9RWmGBz"
      },
      "source": [
        "import numpy as np\n",
        "import matplotlib.pyplot as plt\n",
        "import xgboost as xgb\n",
        "\n",
        "from time import time\n",
        "from sklearn import datasets\n",
        "from sklearn.model_selection import train_test_split\n",
        "from sklearn.ensemble import GradientBoostingClassifier\n",
        "from sklearn.metrics import precision_score, recall_score, f1_score, plot_confusion_matrix, confusion_matrix"
      ],
      "execution_count": 2,
      "outputs": []
    },
    {
      "cell_type": "markdown",
      "metadata": {
        "deletable": false,
        "editable": false,
        "heading_collapsed": true,
        "hidden": true,
        "run_control": {
          "frozen": true
        },
        "id": "TbKGCwmxmGBz"
      },
      "source": [
        "### Load & Prepare Dataset:"
      ]
    },
    {
      "cell_type": "code",
      "metadata": {
        "hidden": true,
        "colab": {
          "base_uri": "https://localhost:8080/"
        },
        "id": "CKAc8qXJmGB0",
        "outputId": "f74be7f7-9730-4601-b0bc-f98ab586e68c"
      },
      "source": [
        "np.random.seed(seed=42)\n",
        "\n",
        "# load dataset:\n",
        "iris = datasets.load_iris()\n",
        "X = iris.data\n",
        "y = iris.target\n",
        "\n",
        "\n",
        "# preprocess(if you need):\n",
        "\n",
        "\n",
        "# split dataset to train set and validation set:\n",
        "x_train, x_val, y_train, y_val = train_test_split(X, y, test_size=0.1)\n",
        "\n",
        "data_train = xgb.DMatrix(data = x_train, label = y_train)\n",
        "data_val = xgb.DMatrix(data = x_val, label = y_val)\n",
        "\n",
        "n_val = len(x_val)\n",
        "class_names = iris.target_names\n",
        "print(n_val, class_names)"
      ],
      "execution_count": 4,
      "outputs": [
        {
          "output_type": "stream",
          "text": [
            "15 ['setosa' 'versicolor' 'virginica']\n"
          ],
          "name": "stdout"
        }
      ]
    },
    {
      "cell_type": "markdown",
      "metadata": {
        "deletable": false,
        "editable": false,
        "heading_collapsed": true,
        "hidden": true,
        "run_control": {
          "frozen": true
        },
        "id": "7SMnUPhXmGB0"
      },
      "source": [
        "### Set Hyperparameter for Both Gradine Boost & XGboost:"
      ]
    },
    {
      "cell_type": "code",
      "metadata": {
        "hidden": true,
        "id": "pyIpxR9gmGB1"
      },
      "source": [
        "# Gradine Boost:\n",
        "GB_param = dict(n_estimators=5,\n",
        "                learning_rate=0.01,\n",
        "                max_depth=3,\n",
        "                random_state=0)\n",
        "\n",
        "# XGboost:\n",
        "XGboost_param = {\"eta\": 0.3,\n",
        "                 \"silent\": True,\n",
        "                 \"objective\": \"multi:softprob\",\n",
        "                 \"num_class\": 3,\n",
        "                 \"max_depth\": 3}\n",
        "\n",
        "num_round = 5"
      ],
      "execution_count": 5,
      "outputs": []
    },
    {
      "cell_type": "markdown",
      "metadata": {
        "deletable": false,
        "editable": false,
        "heading_collapsed": true,
        "hidden": true,
        "run_control": {
          "frozen": true
        },
        "id": "DOqScqAomGB1"
      },
      "source": [
        "### Define Classifiers:"
      ]
    },
    {
      "cell_type": "code",
      "metadata": {
        "hidden": true,
        "id": "jqcEeswamGB2"
      },
      "source": [
        "# define classifier for gradient boost:\n",
        "GB_clf = GradientBoostingClassifier(n_estimators=10,\n",
        "                                    learning_rate=0.01,\n",
        "                                    max_features=2,\n",
        "                                    max_depth=3, \n",
        "                                    random_state=0)\n",
        "\n",
        "# define classifier for XGboost:\n",
        "XGboost_clf = xgb.XGBClassifier()"
      ],
      "execution_count": 8,
      "outputs": []
    },
    {
      "cell_type": "markdown",
      "metadata": {
        "deletable": false,
        "editable": false,
        "heading_collapsed": true,
        "hidden": true,
        "run_control": {
          "frozen": true
        },
        "id": "J_JLL76ZmGB2"
      },
      "source": [
        "### Train Both Classifiers:"
      ]
    },
    {
      "cell_type": "code",
      "metadata": {
        "hidden": true,
        "colab": {
          "base_uri": "https://localhost:8080/"
        },
        "id": "B2LyUvQcmGB3",
        "outputId": "08de3d6a-b579-43f4-c312-09c7c1b53fc8"
      },
      "source": [
        "# train  gradient boost:\n",
        "tic = time()\n",
        "trained_GB = GB_clf.fit(x_train, y_train)\n",
        "toc = time()\n",
        "\n",
        "# calculate training time for GB:\n",
        "GB_train_time = toc - tic\n",
        "print(f\"GB_train_time: {1000.0*GB_train_time} millisecond\")\n",
        "\n",
        "\n",
        "# train XGboost:\n",
        "tic = time()\n",
        "trained_XGboost = xgb.train(XGboost_param, data_train, num_round)\n",
        "toc = time()\n",
        "\n",
        "# calculate training time for XGboost:\n",
        "XGboost_train_time = toc-tic\n",
        "print(f\"XGboost_train_time: {1000.0*XGboost_train_time} millisecond\")"
      ],
      "execution_count": 12,
      "outputs": [
        {
          "output_type": "stream",
          "text": [
            "GB_train_time: 35.61067581176758 millisecond\n",
            "XGboost_train_time: 4.720211029052734 millisecond\n"
          ],
          "name": "stdout"
        }
      ]
    },
    {
      "cell_type": "markdown",
      "metadata": {
        "deletable": false,
        "editable": false,
        "heading_collapsed": true,
        "hidden": true,
        "run_control": {
          "frozen": true
        },
        "id": "khe23ESvmGB3"
      },
      "source": [
        "### Prediction on Validation Set:"
      ]
    },
    {
      "cell_type": "code",
      "metadata": {
        "hidden": true,
        "colab": {
          "base_uri": "https://localhost:8080/"
        },
        "id": "FvZgfHMVmGB4",
        "outputId": "3da1cba2-fd7f-43e6-b743-ffc1470d6a93"
      },
      "source": [
        "# prediction for gradient boost:\n",
        "tic = time()\n",
        "y_pred_GB = trained_GB.predict(x_val)\n",
        "toc = time()\n",
        "\n",
        "# calculate validation time per data for GB:\n",
        "GB_val_time_per_data = toc - tic\n",
        "print(f\"GB_val_time_per_data: {1000.0*GB_val_time_per_data} millisecond\")\n",
        "\n",
        "\n",
        "# prediction for XGboost:\n",
        "tic = time()\n",
        "y_pred_XGboost = np.asarray([np.argmax(i) for i in trained_XGboost.predict(data_val)]) \n",
        "toc = time()\n",
        "\n",
        "\n",
        "# calculate validation time per data for XGboost:\n",
        "XGboost_val_time_per_data = toc - tic\n",
        "print(f\"XGboost_val_time_per_data: {1000.0*XGboost_val_time_per_data} millisecond\")"
      ],
      "execution_count": 13,
      "outputs": [
        {
          "output_type": "stream",
          "text": [
            "GB_val_time_per_data: 1.1322498321533203 millisecond\n",
            "XGboost_val_time_per_data: 6.8912506103515625 millisecond\n"
          ],
          "name": "stdout"
        }
      ]
    },
    {
      "cell_type": "markdown",
      "metadata": {
        "deletable": false,
        "editable": false,
        "heading_collapsed": true,
        "hidden": true,
        "run_control": {
          "frozen": true
        },
        "id": "Yby2NLjzmGB4"
      },
      "source": [
        "### Evaluation (precision - recall - F1 score - confusion matrix):"
      ]
    },
    {
      "cell_type": "markdown",
      "metadata": {
        "deletable": false,
        "editable": false,
        "heading_collapsed": true,
        "hidden": true,
        "run_control": {
          "frozen": true
        },
        "id": "sZLTzCLHmGB4"
      },
      "source": [
        "#### for Gradient Boost:"
      ]
    },
    {
      "cell_type": "code",
      "metadata": {
        "hidden": true,
        "colab": {
          "base_uri": "https://localhost:8080/"
        },
        "id": "kDrQqDhrmGB5",
        "outputId": "1f6ce630-261c-4066-b8b7-a45ac73a454d"
      },
      "source": [
        "# calculate precision\n",
        "precision_GB = precision_score(y_val, y_pred_GB, average='macro')\n",
        "\n",
        "print(f\"precision_GB: {precision_GB}\")"
      ],
      "execution_count": 15,
      "outputs": [
        {
          "output_type": "stream",
          "text": [
            "precision_GB: 1.0\n"
          ],
          "name": "stdout"
        }
      ]
    },
    {
      "cell_type": "code",
      "metadata": {
        "hidden": true,
        "colab": {
          "base_uri": "https://localhost:8080/"
        },
        "id": "lvqLdYj5mGB5",
        "outputId": "23ab242c-e63e-4121-c97d-0e7b0b41a233"
      },
      "source": [
        "# calculate recall\n",
        "recall_GB = recall_score(y_val, y_pred_GB, average='macro')\n",
        "\n",
        "print(f\"recall_GB: {recall_GB}\")"
      ],
      "execution_count": 16,
      "outputs": [
        {
          "output_type": "stream",
          "text": [
            "recall_GB: 1.0\n"
          ],
          "name": "stdout"
        }
      ]
    },
    {
      "cell_type": "code",
      "metadata": {
        "hidden": true,
        "colab": {
          "base_uri": "https://localhost:8080/"
        },
        "id": "gys1qcwcmGB5",
        "outputId": "a069a429-8033-4fcd-a425-928bdbf2c7cd"
      },
      "source": [
        "# calculate F1 score\n",
        "f1_GB = f1_score(y_val, y_pred_GB, average='macro')\n",
        "\n",
        "print(f\"F1_GB: {f1_GB}\")"
      ],
      "execution_count": 17,
      "outputs": [
        {
          "output_type": "stream",
          "text": [
            "F1_GB: 1.0\n"
          ],
          "name": "stdout"
        }
      ]
    },
    {
      "cell_type": "code",
      "metadata": {
        "hidden": true,
        "colab": {
          "base_uri": "https://localhost:8080/",
          "height": 573
        },
        "id": "3gCaOTgTmGB6",
        "outputId": "86b3323e-9b54-4432-e226-7a5e07d9f47e"
      },
      "source": [
        "# calculate confusion matrix\n",
        "titles_options = [(\"Confusion matrix, without normalization\", None),\n",
        "                  (\"Normalized confusion matrix\", \"true\")]\n",
        "for title, normalize in titles_options:\n",
        "    disp = plot_confusion_matrix(trained_GB, x_val, y_pred_XGboost,\n",
        "                                 cmap=plt.cm.Blues,\n",
        "                                 normalize=normalize)\n",
        "    disp.ax_.set_title(title)\n",
        "\n",
        "plt.show()"
      ],
      "execution_count": 18,
      "outputs": [
        {
          "output_type": "display_data",
          "data": {
            "image/png": "[encoded data removed]",
            "text/plain": [
              "<Figure size 432x288 with 2 Axes>"
            ]
          },
          "metadata": {
            "tags": [],
            "needs_background": "light"
          }
        },
        {
          "output_type": "display_data",
          "data": {
            "image/png": "[encoded data removed]",
            "text/plain": [
              "<Figure size 432x288 with 2 Axes>"
            ]
          },
          "metadata": {
            "tags": [],
            "needs_background": "light"
          }
        }
      ]
    },
    {
      "cell_type": "markdown",
      "metadata": {
        "deletable": false,
        "editable": false,
        "heading_collapsed": true,
        "hidden": true,
        "run_control": {
          "frozen": true
        },
        "id": "LQUVLStKmGB6"
      },
      "source": [
        "#### for XGboost:"
      ]
    },
    {
      "cell_type": "code",
      "metadata": {
        "hidden": true,
        "colab": {
          "base_uri": "https://localhost:8080/"
        },
        "id": "R7oJs0QqmGB7",
        "outputId": "e70bca5c-8579-4603-afa8-86b04dc03f38"
      },
      "source": [
        "# calculate precision\n",
        "precision_XGboost = precision_score(y_val, y_pred_XGboost, average='macro')\n",
        "\n",
        "print(f\"precision_XGboost: {precision_XGboost}\")"
      ],
      "execution_count": 19,
      "outputs": [
        {
          "output_type": "stream",
          "text": [
            "precision_XGboost: 1.0\n"
          ],
          "name": "stdout"
        }
      ]
    },
    {
      "cell_type": "code",
      "metadata": {
        "hidden": true,
        "colab": {
          "base_uri": "https://localhost:8080/"
        },
        "id": "6tU1OuKemGB7",
        "outputId": "792b3737-f80d-408a-b87d-b93b7fbd75a3"
      },
      "source": [
        "# calculate recall\n",
        "recall_XGboost = recall_score(y_val, y_pred_XGboost, average='macro')\n",
        "\n",
        "\n",
        "print(f\"recall_XGboost: {recall_XGboost}\")"
      ],
      "execution_count": 21,
      "outputs": [
        {
          "output_type": "stream",
          "text": [
            "recall_XGboost: 1.0\n"
          ],
          "name": "stdout"
        }
      ]
    },
    {
      "cell_type": "code",
      "metadata": {
        "hidden": true,
        "colab": {
          "base_uri": "https://localhost:8080/"
        },
        "id": "Rz9jUoBemGB7",
        "outputId": "53022f99-6c9f-446f-af69-91abd9500046"
      },
      "source": [
        "# calculate F1 score\n",
        "f1_XGboost = f1_score(y_val, y_pred_XGboost, average='macro')\n",
        "\n",
        "print(f\"F1_XGboost: {f1_XGboost}\")"
      ],
      "execution_count": 22,
      "outputs": [
        {
          "output_type": "stream",
          "text": [
            "F1_XGboost: 1.0\n"
          ],
          "name": "stdout"
        }
      ]
    },
    {
      "cell_type": "code",
      "metadata": {
        "hidden": true,
        "colab": {
          "base_uri": "https://localhost:8080/"
        },
        "id": "gerp2V2fmGB8",
        "outputId": "c3f8fca5-09d9-4ca3-86c0-0a9f5ee43cdf"
      },
      "source": [
        "# calculate confusion matrix\n",
        "cm_XGboost = confusion_matrix(y_val, y_pred_XGboost)\n",
        "\n",
        "print(f\"conf_mat_XGboost: {cm_XGboost}\")"
      ],
      "execution_count": 23,
      "outputs": [
        {
          "output_type": "stream",
          "text": [
            "conf_mat_XGboost: [[6 0 0]\n",
            " [0 6 0]\n",
            " [0 0 3]]\n"
          ],
          "name": "stdout"
        }
      ]
    },
    {
      "cell_type": "markdown",
      "metadata": {
        "deletable": false,
        "editable": false,
        "heading_collapsed": true,
        "hidden": true,
        "run_control": {
          "frozen": true
        },
        "id": "bLzholjNmGB8"
      },
      "source": [
        "### Compare Gradient Boost & XGboost Algorithm According to Evaluation Part Results:"
      ]
    },
    {
      "cell_type": "markdown",
      "metadata": {
        "hidden": true,
        "id": "Qy23eQr7mGB8"
      },
      "source": [
        "Write your analysis here:\n",
        "\n",
        "Both follows the principle of gradient boosting. There are however, the difference in modeling details. Specifically, XGboost used a more regularized model formalization to control over-fitting, which gives it better performance.\n",
        "Here both of them performed well in terms of precision, but training time for XGboost is better than Gradient Boost(about 8 times better than Gradient Boost)."
      ]
    },
    {
      "cell_type": "code",
      "metadata": {
        "id": "ScuzEQ0VtZqh"
      },
      "source": [
        ""
      ],
      "execution_count": null,
      "outputs": []
    }
  ]
}